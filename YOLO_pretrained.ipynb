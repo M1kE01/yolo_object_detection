{
  "nbformat": 4,
  "nbformat_minor": 0,
  "metadata": {
    "colab": {
      "provenance": []
    },
    "kernelspec": {
      "name": "python3",
      "display_name": "Python 3"
    },
    "language_info": {
      "name": "python"
    }
  },
  "cells": [
    {
      "cell_type": "code",
      "execution_count": null,
      "metadata": {
        "id": "6pRrp8S9lPsE"
      },
      "outputs": [],
      "source": [
        "import cv2 as cv\n",
        "import numpy as np\n",
        "import pandas as pd\n",
        "import matplotlib.pyplot as plt\n",
        "import seaborn as sb\n",
        "import torch\n",
        "import torch\n",
        "from IPython.display import Image, clear_output  # to display images\n",
        "import requests\n",
        "from PIL import Image\n",
        "\n",
        "# Load the YOLOv5 model\n",
        "model = torch.hub.load('ultralytics/yolov5', 'yolov5s', pretrained=True)  # You can choose 'yolov5m', 'yolov5l', or 'yolov5x' for larger models\n",
        "\n",
        "!pip install torch torchvision torchaudio\n",
        "!pip install matplotlib\n",
        "#!pip install opencv-python-headless # sometimes 'opencv-python' does not work properly in Google Colab environments\n",
        "\n",
        "!git clone https://github.com/ultralytics/yolov5  # Clone YOLOv5 repository\n",
        "%cd yolov5\n",
        "!pip install -r requirements.txt  # Install dependencies"
      ]
    },
    {
      "cell_type": "code",
      "source": [
        "# Let's assume you uploaded an image to your Colab session named 'image.jpg'\n",
        "img_path = '/content/trump.jpeg'  # Change this to the path of your uploaded image\n",
        "\n",
        "# Use the model to perform inference on the image\n",
        "results = model(img_path)\n",
        "\n",
        "# Results contain bounding boxes and labels for detections\n",
        "# You can visualize the results using the 'show' method\n",
        "results.show()\n",
        "\n",
        "# Download an image from the web\n",
        "img_url = 'http://images.cocodataset.org/val2017/000000039769.jpg'  # Replace with your image URL\n",
        "img_data = requests.get(img_url).content\n",
        "with open('image.jpg', 'wb') as handler:\n",
        "    handler.write(img_data)\n",
        "\n",
        "# Now you have the image saved as 'image.jpg', you can process it with the YOLO model\n",
        "results = model('/content/trump.jpeg')\n",
        "results.show()\n",
        "\n",
        "\n",
        "# Results are in the 'results.xyxy[0]' tensor if you want to get bounding box coordinates\n",
        "for i in range(len(results.xyxy[0])):\n",
        "    print(f\"Bounding box {i+1}: {results.xyxy[0][i].numpy()}\")\n",
        "    print(f\"Confidence score: {results.xyxy[0][i][4].item()}\")\n",
        "    print(f\"Class ID: {results.xyxy[0][i][5].item()}\")\n",
        "\n",
        "# You can also print the results as a pandas DataFrame\n",
        "print(results.pandas().xyxy[0])"
      ],
      "metadata": {
        "id": "cTFVLdhnlUs0"
      },
      "execution_count": null,
      "outputs": []
    }
  ]
}